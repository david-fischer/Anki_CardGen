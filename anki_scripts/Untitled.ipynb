{
 "cells": [
  {
   "cell_type": "code",
   "execution_count": 4,
   "metadata": {
    "ExecuteTime": {
     "end_time": "2018-03-28T19:03:21.877683Z",
     "start_time": "2018-03-28T19:03:21.868849Z"
    }
   },
   "outputs": [
    {
     "name": "stdout",
     "output_type": "stream",
     "text": [
      "Overwriting cloze.py\n"
     ]
    }
   ],
   "source": [
    "%%writefile cloze.py\n",
    "\n",
    "import yad\n",
    "import re\n",
    "from add_card import add_cloze_card\n",
    "\n",
    "\n",
    "\n",
    "#x=[\"^\",\"val1\",\"val2\",\"val3\"]\n",
    "\n",
    "#phrase=\"Me di cuenta de inmediato que estaba preocupada y triste.\"\n",
    "#words=[\"^\"]+phrase.split()\n",
    "\n",
    "\n",
    "yad=yad.YAD()\n",
    "#?yad.Form\n",
    "\n",
    "#x = (\n",
    "#     (\"LBL\",\"\"),\n",
    "#     (\"CBE\",\"\",words),\n",
    "#     (\"CBE\",\"\",words),\n",
    "#     (\"CBE\",\"\",words),\n",
    "#     (\"LBL\",phrase),\n",
    "#     (\"\",\"Hint:\",\"\"),\n",
    "#     (\"\",\"Hint:\",\"\"),\n",
    "#     (\"\",\"Hint:\",\"\"),\n",
    "     #(\"H\",\"Hidden label\",\"Hidden text\"),\n",
    "     #(\"NUM\",\"Numeric\",(0,0,100,1,2)),\n",
    "     #(\"CB\",\"Combo box\",(\"val1\",\"^val2\",\"val3\")),\n",
    "     #(\"CBE\",\"Editable Combo box\",(\"val1\",\"^val2\",\"val3\")),\n",
    "     #(\"FL\",\"Select a file\",\"\"),\n",
    "     #(\"DIR\",\"Select Directory\",\"\"),\n",
    "     #(\"CDIR\",\"Create Directory\",\"\"),\n",
    "     #(\"FN\",\"Select Font\",(\"Sans\",\"Regular\",\"12\")),\n",
    "     #(\"MFL\",\"Select Multiple files\",\"\"),\n",
    "     #(\"DT\",\"Date\",\"\"),\n",
    "     #(\"SCL\",\"Scale\",\"\"),\n",
    "     #(\"CLR\",\"Color Palette\",\"\"),\n",
    "     #\"TXT\",\"Multi-line text entry\",\"\"),\n",
    "     #\"CHK\",\"Checkbox\",\"true\"),\n",
    "     #\"BTN\",(\"gtk-ok\",\"\",\"OK\"),\"echo hi\"),\n",
    "#)\n",
    "\n",
    "#user_input=yad.Form(fields=x,columns=2,title=\"Phrase\")#,selectable_labels=1,focused=3)\n",
    "\n",
    "#editor = \"This is result of the match\"\n",
    "#new_editor = re.sub(r\"\\bresult\\b\",\"resultado\",editor)\n",
    "#print(new_editor)\n",
    "#newest_editor = re.sub(r\"\\bresult\\b\",\"resultado\",new_editor)\n",
    "#print(newest_editor)\n",
    "\n",
    "\n",
    "def add_cloze_del(phrase,word,hint,number):\n",
    "    #word=user_input[i+1]\n",
    "    if word!=\"\":\n",
    "        #print(word)\n",
    "        #hint=user_input[i+5]\n",
    "        replace_string=\"<font color=\\\"blue\\\"> <b> {{c%s::%s:: %s }} </b></font>\"%(number,word,hint)\n",
    "        reg_exp=r\"\\b%s\\b\"%word\n",
    "        #print(reg_exp)\n",
    "        phrase=re.sub(reg_exp,replace_string,phrase)\n",
    "    return phrase\n",
    "\n",
    "def get_cloze_phrase(phrase):\n",
    "    words=[\"^\"]+[word.strip(\",;.?!\\\"\\'\") for word in phrase.split()]\n",
    "    x = (\n",
    "     (\"LBL\",\"\"),\n",
    "     (\"CBE\",\"\",words),\n",
    "     (\"CBE\",\"\",words),\n",
    "     (\"CBE\",\"\",words),\n",
    "     (\"TXT\",\"\",phrase),\n",
    "     (\"\",\"Hint:\",\"\"),\n",
    "     (\"\",\"Hint:\",\"\"),\n",
    "     (\"\",\"Hint:\",\"\"),\n",
    "    )\n",
    "    \n",
    "    user_input=yad.Form(fields=x,columns=2,title=\"Phrase\")\n",
    "    phrase=user_input[4]\n",
    "    #print(phrase)\n",
    "    for i in range(1,4):\n",
    "        word=user_input[i]\n",
    "        hint=user_input[i+4]\n",
    "        phrase=add_cloze_del(phrase,word,hint,i)\n",
    "\n",
    "    return phrase\n",
    "\n"
   ]
  },
  {
   "cell_type": "code",
   "execution_count": null,
   "metadata": {
    "ExecuteTime": {
     "start_time": "2018-03-28T19:08:35.432Z"
    }
   },
   "outputs": [],
   "source": [
    "from cloze import get_cloze_phrase\n",
    "from add_card import add_cloze_card\n",
    "import sys\n",
    "\n",
    "\n",
    "\n",
    "phrase=\"Me di cuenta de inmediato que estaba preocupada y triste.\"\n",
    "\n",
    "cloze_phrase=get_cloze_phrase(phrase)\n",
    "if phrase==cloze_phrase:\n",
    "    sys.exit()\n",
    "\n",
    "add_cloze_card(cloze_phrase)\n"
   ]
  },
  {
   "cell_type": "code",
   "execution_count": null,
   "metadata": {},
   "outputs": [],
   "source": []
  },
  {
   "cell_type": "code",
   "execution_count": null,
   "metadata": {},
   "outputs": [],
   "source": []
  }
 ],
 "metadata": {
  "kernelspec": {
   "display_name": "Python 3",
   "language": "python",
   "name": "python3"
  },
  "language_info": {
   "codemirror_mode": {
    "name": "ipython",
    "version": 3
   },
   "file_extension": ".py",
   "mimetype": "text/x-python",
   "name": "python",
   "nbconvert_exporter": "python",
   "pygments_lexer": "ipython3",
   "version": "3.5.2"
  },
  "varInspector": {
   "cols": {
    "lenName": 16,
    "lenType": 16,
    "lenVar": 40
   },
   "kernels_config": {
    "python": {
     "delete_cmd_postfix": "",
     "delete_cmd_prefix": "del ",
     "library": "var_list.py",
     "varRefreshCmd": "print(var_dic_list())"
    },
    "r": {
     "delete_cmd_postfix": ") ",
     "delete_cmd_prefix": "rm(",
     "library": "var_list.r",
     "varRefreshCmd": "cat(var_dic_list()) "
    }
   },
   "types_to_exclude": [
    "module",
    "function",
    "builtin_function_or_method",
    "instance",
    "_Feature"
   ],
   "window_display": false
  }
 },
 "nbformat": 4,
 "nbformat_minor": 2
}
